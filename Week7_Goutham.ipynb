{
 "cells": [
  {
   "cell_type": "code",
   "execution_count": 1,
   "id": "7e680986",
   "metadata": {},
   "outputs": [],
   "source": [
    "import numpy as np\n",
    "import matplotlib as plt\n",
    "import seaborn as sns\n",
    "import pandas as pd\n",
    "from scipy.stats import ttest_rel\n",
    "from scipy.stats import ttest_ind\n",
    "from statsmodels.stats.weightstats import ztest"
   ]
  },
  {
   "cell_type": "code",
   "execution_count": 3,
   "id": "2b9a625c",
   "metadata": {},
   "outputs": [
    {
     "name": "stdout",
     "output_type": "stream",
     "text": [
      "    Gender Test preparation  Total Marks\n",
      "0     male             none           14\n",
      "1   female             none           28\n",
      "2   female             none           18\n",
      "3   female             none           48\n",
      "4   female             none           21\n",
      "5   female        completed           40\n",
      "6     male             none           30\n",
      "7   female             none           12\n",
      "8     male             none           18\n",
      "9     male             none           24\n",
      "10    male        completed           44\n",
      "11    male             none           23\n",
      "12    male        completed           43\n",
      "13    male             none           28\n",
      "14  female             none           41\n",
      "15  female             none           13\n",
      "16  female        completed           48\n",
      "17  female             none           45\n",
      "18    male             none           47\n",
      "19    male             none           36\n",
      "20    male             none           14\n",
      "21    male        completed           44\n",
      "22  female             none           41\n",
      "23  female             none           27\n",
      "24  female             none           27\n",
      "25  female             none           38\n",
      "26  female        completed           50\n",
      "27  female        completed           43\n"
     ]
    }
   ],
   "source": [
    "data = pd.read_csv (\"C:\\\\Users\\\\abcd\\\\Downloads\\\\Copy of dataset w7.csv\")\n",
    "print(data)"
   ]
  },
  {
   "cell_type": "code",
   "execution_count": 4,
   "id": "cdd79a29",
   "metadata": {},
   "outputs": [
    {
     "data": {
      "text/plain": [
       "Gender              0\n",
       "Test preparation    0\n",
       "Total Marks         0\n",
       "dtype: int64"
      ]
     },
     "execution_count": 4,
     "metadata": {},
     "output_type": "execute_result"
    }
   ],
   "source": [
    "# Checking for null values\n",
    "data.isnull().sum()"
   ]
  },
  {
   "cell_type": "code",
   "execution_count": 5,
   "id": "c2c70990",
   "metadata": {},
   "outputs": [
    {
     "data": {
      "text/plain": [
       "count    28.000000\n",
       "mean     32.321429\n",
       "std      12.454520\n",
       "min      12.000000\n",
       "25%      22.500000\n",
       "50%      33.000000\n",
       "75%      43.250000\n",
       "max      50.000000\n",
       "Name: Total Marks, dtype: float64"
      ]
     },
     "execution_count": 5,
     "metadata": {},
     "output_type": "execute_result"
    }
   ],
   "source": [
    "# 1. Carry out descriptive analytics on the dataset.\n",
    "\n",
    "data[('Total Marks')].describe()"
   ]
  },
  {
   "cell_type": "code",
   "execution_count": 6,
   "id": "b237c7fa",
   "metadata": {},
   "outputs": [
    {
     "data": {
      "text/plain": [
       "count       28\n",
       "unique       2\n",
       "top       none\n",
       "freq        21\n",
       "Name: Test preparation, dtype: object"
      ]
     },
     "execution_count": 6,
     "metadata": {},
     "output_type": "execute_result"
    }
   ],
   "source": [
    "data[('Test preparation')].describe()"
   ]
  },
  {
   "cell_type": "code",
   "execution_count": 7,
   "id": "117677ed",
   "metadata": {},
   "outputs": [
    {
     "data": {
      "text/plain": [
       "female    16\n",
       "male      12\n",
       "Name: Gender, dtype: int64"
      ]
     },
     "execution_count": 7,
     "metadata": {},
     "output_type": "execute_result"
    }
   ],
   "source": [
    "data['Gender'].value_counts()"
   ]
  },
  {
   "cell_type": "code",
   "execution_count": 8,
   "id": "826c83f5",
   "metadata": {},
   "outputs": [
    {
     "data": {
      "text/plain": [
       "Gender  Test preparation\n",
       "female  none                12\n",
       "        completed            4\n",
       "male    none                 9\n",
       "        completed            3\n",
       "Name: Test preparation, dtype: int64"
      ]
     },
     "execution_count": 8,
     "metadata": {},
     "output_type": "execute_result"
    }
   ],
   "source": [
    "data.groupby('Gender')['Test preparation'].value_counts()"
   ]
  },
  {
   "cell_type": "code",
   "execution_count": 9,
   "id": "33b37e1f",
   "metadata": {},
   "outputs": [
    {
     "data": {
      "text/plain": [
       "Gender\n",
       "female    33.750000\n",
       "male      30.416667\n",
       "Name: Total Marks, dtype: float64"
      ]
     },
     "execution_count": 9,
     "metadata": {},
     "output_type": "execute_result"
    }
   ],
   "source": [
    "data.groupby('Gender')['Total Marks'].mean()\n"
   ]
  },
  {
   "cell_type": "code",
   "execution_count": 10,
   "id": "e53dcb5d",
   "metadata": {},
   "outputs": [
    {
     "data": {
      "text/plain": [
       "Test preparation\n",
       "completed    44.571429\n",
       "none         28.238095\n",
       "Name: Total Marks, dtype: float64"
      ]
     },
     "execution_count": 10,
     "metadata": {},
     "output_type": "execute_result"
    }
   ],
   "source": [
    "data.groupby('Test preparation')['Total Marks'].mean()"
   ]
  },
  {
   "cell_type": "code",
   "execution_count": 11,
   "id": "1d082032",
   "metadata": {},
   "outputs": [
    {
     "name": "stdout",
     "output_type": "stream",
     "text": [
      "The test result is: [-0.69408853] [0.49378223]\n"
     ]
    }
   ],
   "source": [
    "# 2. Check whether female and male students scored the same marks.\n",
    "#H0:Male and female students scored same marks \n",
    "#H1:Male and female students doesn't score same marks\n",
    "\n",
    "alpha=.05\n",
    "MM = data[data[\"Gender\"]==\"male\"][[\"Total Marks\"]]\n",
    "FM = data[data[\"Gender\"]==\"female\"][[\"Total Marks\"]]\n",
    "t_score,p_value=ttest_ind(MM,FM)\n",
    "print('The test result is:', t_score, p_value)"
   ]
  },
  {
   "cell_type": "code",
   "execution_count": 12,
   "id": "491f1ced",
   "metadata": {},
   "outputs": [
    {
     "name": "stdout",
     "output_type": "stream",
     "text": [
      "The p value is [0.49378223] is greater than 0.05(the alpha value), therefore the dataset fails to reject the null hypothesis.\n"
     ]
    }
   ],
   "source": [
    "if (p_value>alpha):\n",
    "    print('The p value is', p_value,'is greater than 0.05(the alpha value), therefore the dataset fails to reject the null hypothesis.')\n",
    "else:\n",
    "    print('The p value',p_value,'is less than 0.05(the alpha value), therefore the sample fails to accept the null hypothesis.')"
   ]
  },
  {
   "cell_type": "code",
   "execution_count": null,
   "id": "b5a53913",
   "metadata": {},
   "outputs": [],
   "source": [
    "# According to the null hypothesis, the female and male candidates scores same marks."
   ]
  },
  {
   "cell_type": "code",
   "execution_count": 13,
   "id": "cc4f92f9",
   "metadata": {},
   "outputs": [
    {
     "name": "stdout",
     "output_type": "stream",
     "text": [
      "The test result is: [3.61436375] [0.00126713]\n"
     ]
    }
   ],
   "source": [
    "# 3. Whether test preparation helps the students?\n",
    "# H0= There is no significant difference between the scores of students who completed test preparation and who didn't.\n",
    "# H1= There is significant difference between the scores of students who completed test preparation and who didn't.\n",
    "\n",
    "alpha=.05\n",
    "CM = data[data[\"Test preparation\"]==\"completed\"][[\"Total Marks\"]]\n",
    "NM = data[data['Test preparation']==\"none\"][[\"Total Marks\"]]\n",
    "t_score2,p_value2=ttest_ind(CM,NM)\n",
    "print('The test result is:', t_score2, p_value2)"
   ]
  },
  {
   "cell_type": "code",
   "execution_count": 14,
   "id": "5d9ab232",
   "metadata": {},
   "outputs": [
    {
     "name": "stdout",
     "output_type": "stream",
     "text": [
      "The p value [0.00126713] is less than 0.05(the alpha value), therefore the sample fails to accept the null hypothesis.\n"
     ]
    }
   ],
   "source": [
    "if (p_value2>alpha):\n",
    "    print('The p value is', p_value2,'is greater than 0.05(the alpha value), therefore the dataset fails to reject the null hypothesis.')\n",
    "else:\n",
    "    print('The p value',p_value2,'is less than 0.05(the alpha value), therefore the sample fails to accept the null hypothesis.')"
   ]
  },
  {
   "cell_type": "code",
   "execution_count": null,
   "id": "c90da139",
   "metadata": {},
   "outputs": [],
   "source": [
    "# There is significant difference between the total marks of students who had given prepratory test and who didn't.It pointed out to the fact that the preparatory test helped the students to improve their academic performance."
   ]
  }
 ],
 "metadata": {
  "kernelspec": {
   "display_name": "Python 3 (ipykernel)",
   "language": "python",
   "name": "python3"
  },
  "language_info": {
   "codemirror_mode": {
    "name": "ipython",
    "version": 3
   },
   "file_extension": ".py",
   "mimetype": "text/x-python",
   "name": "python",
   "nbconvert_exporter": "python",
   "pygments_lexer": "ipython3",
   "version": "3.9.12"
  }
 },
 "nbformat": 4,
 "nbformat_minor": 5
}
